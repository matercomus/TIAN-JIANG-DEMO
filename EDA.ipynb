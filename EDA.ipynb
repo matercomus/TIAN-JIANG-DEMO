{
 "cells": [
  {
   "cell_type": "markdown",
   "metadata": {},
   "source": [
    "# Exploratory Data Analysis"
   ]
  },
  {
   "cell_type": "markdown",
   "metadata": {},
   "source": [
    "In this notebook the data from the 天Jiang BilliBilly channel as well as a few other ones is analyze and visualized."
   ]
  },
  {
   "cell_type": "code",
   "execution_count": 1,
   "metadata": {},
   "outputs": [],
   "source": [
    "import json\n",
    "import polars as pl\n",
    "import numpy as np\n",
    "import pandas as pd\n",
    "import matplotlib.pyplot as plt\n",
    "import seaborn as sns\n",
    "import plotly.express as px\n",
    "import plotly.graph_objects as go"
   ]
  },
  {
   "cell_type": "markdown",
   "metadata": {},
   "source": [
    "## 天 Jiang bilibili channel videos metadata analysis"
   ]
  },
  {
   "cell_type": "code",
   "execution_count": 3,
   "metadata": {},
   "outputs": [
    {
     "data": {
      "text/html": [
       "<div><style>\n",
       ".dataframe > thead > tr,\n",
       ".dataframe > tbody > tr {\n",
       "  text-align: right;\n",
       "  white-space: pre-wrap;\n",
       "}\n",
       "</style>\n",
       "<small>shape: (1, 19)</small><table border=\"1\" class=\"dataframe\"><thead><tr><th>bvid</th><th>title</th><th>desc</th><th>pubdate</th><th>duration</th><th>tname</th><th>stat</th><th>owner</th><th>pages</th><th>rights</th><th>tags</th><th>related_videos</th><th>danmaku_count</th><th>num_pages</th><th>days_since_upload</th><th>uploader_mid</th><th>uploader_name</th><th>uploader_follower</th><th>uploader_total_videos</th></tr><tr><td>str</td><td>str</td><td>str</td><td>i64</td><td>i64</td><td>str</td><td>struct[13]</td><td>struct[3]</td><td>list[struct[10]]</td><td>struct[18]</td><td>list[struct[5]]</td><td>list[struct[37]]</td><td>i64</td><td>i64</td><td>f64</td><td>i64</td><td>str</td><td>null</td><td>null</td></tr></thead><tbody><tr><td>&quot;BV1EsjRzkEBe&quot;</td><td>&quot;学会这些镜头，你的视频也能上热门！[AI&amp;拍摄均适用]&quot;</td><td>&quot;🎥 “为什么《闪灵》的走廊让人窒息？《1917》的一镜到底怎…</td><td>1748343600</td><td>462</td><td>&quot;软件应用&quot;</td><td>{114578000188104,1246,1,2,29,18,2,0,0,49,0,&quot;&quot;,0}</td><td>{21143599,&quot;天JIANG&quot;,&quot;https://i1.hdslb.com/bfs/face/248b0b47d36e1b21f06acb762ded90b76c538b12.jpg&quot;}</td><td>[{25803037733,1,&quot;vupload&quot;,&quot;学会这些镜头，你的视频也能上热门！[AI&amp;拍摄均适用]&quot;,462,&quot;&quot;,&quot;&quot;,{3840,2160,0},&quot;http://i0.hdslb.com/bfs/storyff/n250527sa2zxmam036puusmf7n3yqorq_firsti.jpg&quot;,1748321808}]</td><td>{0,0,1,0,0,1,1,1,0,0,0,0,0,0,0,0,0,0}</td><td>[{0,&quot;发现《Credits》&quot;,&quot;MA468978128471995584&quot;,&quot;bgm&quot;,&quot;https://music.bilibili.com/h5/music-detail?music_id=MA468978128471995584&amp;cid=25803037733&amp;aid=114578000188104&amp;na_close_hide=1&quot;}, {318570,&quot;影视剪辑&quot;,&quot;&quot;,&quot;old_channel&quot;,&quot;&quot;}, … {1697,&quot;教程&quot;,&quot;&quot;,&quot;old_channel&quot;,&quot;&quot;}]</td><td>[{&quot;https://b23.tv/BV1Qg7ZzkEkF&quot;,1751076,&quot;AI学习&quot;,&quot;&quot;,{3840,2160,0},&quot;校园学习&quot;,&quot;BV1Qg7ZzkEkF&quot;,&quot;http://i1.hdslb.com/bfs/storyff/n250512sa2708cqg94m70mm1d6hqi5fu_firsti.jpg&quot;,&quot;山东&quot;,1,null,208,1747094837,29926490130,0,0,20,&quot;http://i1.hdslb.com/bfs/archive/e1b21919cc199e0f9b42582c015f265c3d6f82da.png&quot;,&quot;人工智能&quot;,false,&quot;【可灵AI完整教学】超详细AI视频生成教程｜打造电影感AI动态影像&quot;,2096,{114497586995009,&quot;av&quot;,&quot;web_related_0.router-related-2066606-5bd8c9b6c-ktxjz.1748501082790.711&quot;,&quot;&quot;},1747109109,null,{501053886,&quot;崔老师课堂&quot;,&quot;https://i0.hdslb.com/bfs/face/cd854e6c8eeaaa5ed9e3e5845f2c0752222c84bb.jpg&quot;},{114497586995009,8859,1,10,353,53,54,0,0,115,0,0,8859,0,0},7078,{0,0,0,0,0,1,1,1,0,0,0,0,0,0},&quot;&quot;,1011,114497586995009,&quot;本视频是关于【可灵AI】工具的实用教学，分享如何使用AI进行视频生成、绘画和动态影像创作。&nbsp;&nbsp;\r\n",
       "本内容仅为个人经验演示，不含任何商业合作与推广行为。&nbsp;&nbsp;\r\n",
       "视频内所有素材大家可以免费下载进行练习\n",
       "：https://pan.quark.cn/s/5e8e4047fe83\n",
       "提取码：DLKg&quot;,0,&quot;&quot;,2,null}, {&quot;https://b23.tv/BV1G34y1J7oH&quot;,755832,&quot;设计艺术&quot;,&quot;&quot;,{1920,1080,0},&quot;软件应用&quot;,&quot;BV1G34y1J7oH&quot;,&quot;http://i0.hdslb.com/bfs/storyff/n220715a23mfolr8r1bdiq1l2coz50fg_firsti.jpg&quot;,&quot;四川&quot;,1,null,230,1657886557,774231432,0,0,1,&quot;http://i1.hdslb.com/bfs/archive/b2c8f34b936bd62b2eeb6f0fca833a5f309a101a.jpg&quot;,&quot;知识&quot;,false,&quot;「干货分享」免费的高质量素材资源哪里找？看这个视频就够了！&quot;,2091,{813482648,&quot;av&quot;,&quot;web_related_0.router-related-2066606-5bd8c9b6c-ktxjz.1748501082790.711&quot;,&quot;&quot;},1657886557,null,{21143599,&quot;天JIANG&quot;,&quot;https://i1.hdslb.com/bfs/face/248b0b47d36e1b21f06acb762ded90b76c538b12.jpg&quot;},{813482648,70246,39,90,3971,1045,198,0,0,2133,0,0,70246,0,0},780,{0,0,0,0,0,1,1,1,0,0,0,0,0,0},&quot;无论是做视频/设计/还是PPT 高质量的素材总是必不可少的，今天给大家收集整理了多年来常用的高质量素材网站，完全免费/无版权/可商用 找素材？看这个视频就够了！&quot;,1010,813482648,&quot;总共分为4个部分：\n",
       "灵感-灵感来源/配色工具/\n",
       "图片-背景图/图标/插画/图片\n",
       "视频\n",
       "音频-音乐/音效\n",
       "\n",
       "天JIANGの干货分享 ｜ \n",
       "每周5更新 🆙 如果喜欢就一键三连叭！关注我哦➕ 如果你有：\n",
       " 1⃣️想学习的软件 \n",
       "2⃣️想了解的前期｜中期｜后期知识\n",
       " 3⃣️交流的机会 欢迎随时私信我哦！😊 \n",
       "🧣：尔康是我同学｜YouTube：天JIANG｜dy：天JIANG&quot;,0,&quot;&quot;,null,null}, … {&quot;https://b23.tv/BV1DN411e7sj&quot;,null,&quot;大学专业知识&quot;,&quot;&quot;,{1920,1080,0},&quot;计算机技术&quot;,&quot;BV1DN411e7sj&quot;,&quot;http://i1.hdslb.com/bfs/storyff/n230725qn3ommpofx2eow2oqy9h74a0r_firsti.jpg&quot;,&quot;四川&quot;,1,1563335,231,1690267291,1209316173,1,0,1,&quot;http://i2.hdslb.com/bfs/archive/bfd1738d425aba4ee172d51bdbafcb188843f48a.jpg&quot;,&quot;知识&quot;,false,&quot;[PR公开课]-05音频&quot;,2086,{488836615,&quot;av&quot;,&quot;web_related_0.router-related-2066606-5bd8c9b6c-ktxjz.1748501082790.711&quot;,&quot;&quot;},1690267291,null,{21143599,&quot;天JIANG&quot;,&quot;https://i1.hdslb.com/bfs/face/248b0b47d36e1b21f06acb762ded90b76c538b12.jpg&quot;},{488836615,2102,3,3,16,19,3,0,0,27,0,0,2102,0,0},962,{0,0,0,0,0,0,1,1,0,0,0,0,0,0},&quot;&quot;,1010,488836615,&quot;天JIANG的免费公开课系列1-[90分钟学会PR]\n",
       "这是一套为0基础同学设计的快速/全面/完全免费的premiere入门课\n",
       "\n",
       "时效性强，采用新版软件进行讲解，全中文\n",
       "针对性足，没有任何经验的同学也可以学习\n",
       "制作优良，高质量音视频，知识点重点标注\n",
       "实操案例，边学边练，学一课，会一课\n",
       "\n",
       "所有课程资料免费赠送，详情见视频哦~&quot;,0,&quot;&quot;,null,null}]</td><td>1</td><td>1</td><td>1.822761</td><td>21143599</td><td>&quot;天JIANG&quot;</td><td>null</td><td>null</td></tr></tbody></table></div>"
      ],
      "text/plain": [
       "shape: (1, 19)\n",
       "┌───────────┬───────────┬───────────┬───────────┬───┬───────────┬───────────┬───────────┬──────────┐\n",
       "│ bvid      ┆ title     ┆ desc      ┆ pubdate   ┆ … ┆ uploader_ ┆ uploader_ ┆ uploader_ ┆ uploader │\n",
       "│ ---       ┆ ---       ┆ ---       ┆ ---       ┆   ┆ mid       ┆ name      ┆ follower  ┆ _total_v │\n",
       "│ str       ┆ str       ┆ str       ┆ i64       ┆   ┆ ---       ┆ ---       ┆ ---       ┆ ideos    │\n",
       "│           ┆           ┆           ┆           ┆   ┆ i64       ┆ str       ┆ null      ┆ ---      │\n",
       "│           ┆           ┆           ┆           ┆   ┆           ┆           ┆           ┆ null     │\n",
       "╞═══════════╪═══════════╪═══════════╪═══════════╪═══╪═══════════╪═══════════╪═══════════╪══════════╡\n",
       "│ BV1EsjRzk ┆ 学会这些  ┆ 🎥 “为什  ┆ 174834360 ┆ … ┆ 21143599  ┆ 天JIANG   ┆ null      ┆ null     │\n",
       "│ EBe       ┆ 镜头，你  ┆ 么《闪灵  ┆ 0         ┆   ┆           ┆           ┆           ┆          │\n",
       "│           ┆ 的视频也  ┆ 》的走廊  ┆           ┆   ┆           ┆           ┆           ┆          │\n",
       "│           ┆ 能上热门  ┆ 让人窒息  ┆           ┆   ┆           ┆           ┆           ┆          │\n",
       "│           ┆ ！[AI&拍  ┆ ？《1917  ┆           ┆   ┆           ┆           ┆           ┆          │\n",
       "│           ┆ 摄均适用] ┆ 》的一镜  ┆           ┆   ┆           ┆           ┆           ┆          │\n",
       "│           ┆           ┆ 到底怎…   ┆           ┆   ┆           ┆           ┆           ┆          │\n",
       "└───────────┴───────────┴───────────┴───────────┴───┴───────────┴───────────┴───────────┴──────────┘"
      ]
     },
     "execution_count": 3,
     "metadata": {},
     "output_type": "execute_result"
    }
   ],
   "source": [
    "# load data\n",
    "from utils.data_utils import load_channel_data, load_all_channel_videos\n",
    "\n",
    "CHANNEL_DATA_PATH = \"channels_info/天JIANG_21143599.json\"\n",
    "\n",
    "channel_data = load_channel_data(CHANNEL_DATA_PATH)\n",
    "channel_data.head(1)"
   ]
  },
  {
   "cell_type": "code",
   "execution_count": null,
   "metadata": {},
   "outputs": [],
   "source": []
  }
 ],
 "metadata": {
  "kernelspec": {
   "display_name": ".venv",
   "language": "python",
   "name": "python3"
  },
  "language_info": {
   "codemirror_mode": {
    "name": "ipython",
    "version": 3
   },
   "file_extension": ".py",
   "mimetype": "text/x-python",
   "name": "python",
   "nbconvert_exporter": "python",
   "pygments_lexer": "ipython3",
   "version": "3.11.12"
  }
 },
 "nbformat": 4,
 "nbformat_minor": 2
}
